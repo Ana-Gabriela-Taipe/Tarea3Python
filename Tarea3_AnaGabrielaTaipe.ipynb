{
 "cells": [
  {
   "cell_type": "markdown",
   "id": "d0e011fd-b297-4c4e-9fc1-a878db73a7ce",
   "metadata": {},
   "source": [
    "# Copa de Fútbol Masculina"
   ]
  },
  {
   "cell_type": "markdown",
   "id": "10c078bf-17b3-4182-9935-7c679114aac9",
   "metadata": {},
   "source": [
    "## 1. Acceder los datos de manera remota, es decir no bajándolos a su computadora."
   ]
  },
  {
   "cell_type": "code",
   "execution_count": 1,
   "id": "a0edcb2e-534e-41a0-b454-7aed9b184761",
   "metadata": {},
   "outputs": [],
   "source": [
    "import pandas as pd"
   ]
  },
  {
   "cell_type": "code",
   "execution_count": 2,
   "id": "a333bc12-c49e-41e4-8900-597e8f88cd40",
   "metadata": {},
   "outputs": [],
   "source": [
    "url = \"https://raw.githubusercontent.com/cienciadedatos/datos-de-miercoles/master/datos/2019/2019-04-10/partidos.txt\""
   ]
  },
  {
   "cell_type": "code",
   "execution_count": 3,
   "id": "aee1f4ad-246b-47cc-8c37-a4804435ca8a",
   "metadata": {},
   "outputs": [],
   "source": [
    "copa =  pd.read_csv(url, sep = \"\\t\")"
   ]
  },
  {
   "cell_type": "code",
   "execution_count": 4,
   "id": "0a9dac67-d003-429f-b4cc-9311eac24f07",
   "metadata": {},
   "outputs": [
    {
     "data": {
      "text/html": [
       "<div>\n",
       "<style scoped>\n",
       "    .dataframe tbody tr th:only-of-type {\n",
       "        vertical-align: middle;\n",
       "    }\n",
       "\n",
       "    .dataframe tbody tr th {\n",
       "        vertical-align: top;\n",
       "    }\n",
       "\n",
       "    .dataframe thead th {\n",
       "        text-align: right;\n",
       "    }\n",
       "</style>\n",
       "<table border=\"1\" class=\"dataframe\">\n",
       "  <thead>\n",
       "    <tr style=\"text-align: right;\">\n",
       "      <th></th>\n",
       "      <th>anio</th>\n",
       "      <th>anfitrion</th>\n",
       "      <th>estadio</th>\n",
       "      <th>ciudad</th>\n",
       "      <th>partido_orden</th>\n",
       "      <th>fecha</th>\n",
       "      <th>equipo_1</th>\n",
       "      <th>equipo_2</th>\n",
       "      <th>equipo_1_final</th>\n",
       "      <th>equipo_2_final</th>\n",
       "    </tr>\n",
       "  </thead>\n",
       "  <tbody>\n",
       "    <tr>\n",
       "      <th>0</th>\n",
       "      <td>1930</td>\n",
       "      <td>Uruguay</td>\n",
       "      <td>Estadio Pocitos</td>\n",
       "      <td>Montevideo</td>\n",
       "      <td>(1)</td>\n",
       "      <td>1930-07-13</td>\n",
       "      <td>Francia</td>\n",
       "      <td>Mexico</td>\n",
       "      <td>4</td>\n",
       "      <td>1</td>\n",
       "    </tr>\n",
       "    <tr>\n",
       "      <th>1</th>\n",
       "      <td>1930</td>\n",
       "      <td>Uruguay</td>\n",
       "      <td>Estadio Parque Central</td>\n",
       "      <td>Montevideo</td>\n",
       "      <td>(2)</td>\n",
       "      <td>1930-07-13</td>\n",
       "      <td>Estados Unidos</td>\n",
       "      <td>Bélgica</td>\n",
       "      <td>3</td>\n",
       "      <td>0</td>\n",
       "    </tr>\n",
       "    <tr>\n",
       "      <th>2</th>\n",
       "      <td>1930</td>\n",
       "      <td>Uruguay</td>\n",
       "      <td>Estadio Parque Central</td>\n",
       "      <td>Montevideo</td>\n",
       "      <td>(3)</td>\n",
       "      <td>1930-07-14</td>\n",
       "      <td>Yugoslavia</td>\n",
       "      <td>Brasil</td>\n",
       "      <td>2</td>\n",
       "      <td>1</td>\n",
       "    </tr>\n",
       "    <tr>\n",
       "      <th>3</th>\n",
       "      <td>1930</td>\n",
       "      <td>Uruguay</td>\n",
       "      <td>Estadio Pocitos</td>\n",
       "      <td>Montevideo</td>\n",
       "      <td>(4)</td>\n",
       "      <td>1930-07-14</td>\n",
       "      <td>Rumania</td>\n",
       "      <td>Perú</td>\n",
       "      <td>3</td>\n",
       "      <td>1</td>\n",
       "    </tr>\n",
       "    <tr>\n",
       "      <th>4</th>\n",
       "      <td>1930</td>\n",
       "      <td>Uruguay</td>\n",
       "      <td>Estadio Parque Central</td>\n",
       "      <td>Montevideo</td>\n",
       "      <td>(5)</td>\n",
       "      <td>1930-07-15</td>\n",
       "      <td>Argentina</td>\n",
       "      <td>Francia</td>\n",
       "      <td>1</td>\n",
       "      <td>0</td>\n",
       "    </tr>\n",
       "  </tbody>\n",
       "</table>\n",
       "</div>"
      ],
      "text/plain": [
       "   anio anfitrion                 estadio      ciudad partido_orden  \\\n",
       "0  1930   Uruguay         Estadio Pocitos  Montevideo           (1)   \n",
       "1  1930   Uruguay  Estadio Parque Central  Montevideo           (2)   \n",
       "2  1930   Uruguay  Estadio Parque Central  Montevideo           (3)   \n",
       "3  1930   Uruguay         Estadio Pocitos  Montevideo           (4)   \n",
       "4  1930   Uruguay  Estadio Parque Central  Montevideo           (5)   \n",
       "\n",
       "        fecha        equipo_1 equipo_2  equipo_1_final  equipo_2_final  \n",
       "0  1930-07-13         Francia   Mexico               4               1  \n",
       "1  1930-07-13  Estados Unidos  Bélgica               3               0  \n",
       "2  1930-07-14      Yugoslavia   Brasil               2               1  \n",
       "3  1930-07-14         Rumania     Perú               3               1  \n",
       "4  1930-07-15       Argentina  Francia               1               0  "
      ]
     },
     "execution_count": 4,
     "metadata": {},
     "output_type": "execute_result"
    }
   ],
   "source": [
    "copa.head(5)"
   ]
  },
  {
   "cell_type": "code",
   "execution_count": 5,
   "id": "f5b822ff-1433-4ed7-8a80-501b3c4a9530",
   "metadata": {},
   "outputs": [
    {
     "data": {
      "text/plain": [
       "(900, 10)"
      ]
     },
     "execution_count": 5,
     "metadata": {},
     "output_type": "execute_result"
    }
   ],
   "source": [
    "copa.shape\n",
    "#900 registros y 10 columnas"
   ]
  },
  {
   "cell_type": "markdown",
   "id": "bbdd667e-d31f-4969-b749-c510578aafe5",
   "metadata": {},
   "source": [
    "analicemos la información que tenemos de `copa`"
   ]
  },
  {
   "cell_type": "code",
   "execution_count": 9,
   "id": "2cfc51ee-e159-4f3a-baa9-36f949e26be2",
   "metadata": {},
   "outputs": [
    {
     "data": {
      "text/plain": [
       "Index(['anio', 'anfitrion', 'estadio', 'ciudad', 'partido_orden', 'fecha',\n",
       "       'equipo_1', 'equipo_2', 'equipo_1_final', 'equipo_2_final'],\n",
       "      dtype='object')"
      ]
     },
     "execution_count": 9,
     "metadata": {},
     "output_type": "execute_result"
    }
   ],
   "source": [
    "copa.columns"
   ]
  },
  {
   "cell_type": "code",
   "execution_count": 7,
   "id": "f732bbc3-b78b-4104-b238-bfc7341003e7",
   "metadata": {},
   "outputs": [
    {
     "data": {
      "text/plain": [
       "array([1930, 1934, 1938, 1950, 1954, 1958, 1962, 1966, 1970, 1974, 1978,\n",
       "       1982, 1986, 1990, 1994, 1998, 2002, 2006, 2010, 2014, 2018],\n",
       "      dtype=int64)"
      ]
     },
     "execution_count": 7,
     "metadata": {},
     "output_type": "execute_result"
    }
   ],
   "source": [
    "copa['anio'].unique()"
   ]
  },
  {
   "cell_type": "code",
   "execution_count": 6,
   "id": "dced5f5d-93be-44fd-81ea-e64c403fb5e9",
   "metadata": {},
   "outputs": [
    {
     "data": {
      "text/plain": [
       "array(['Uruguay', 'Italia', 'Francia', 'Brasil', 'Suiza', 'Suecia',\n",
       "       'Chile', 'Inglaterra', 'Mexico', 'Alemania occidental',\n",
       "       'Argentina', 'España', 'Estados Unidos', 'Corea del sur y Japón',\n",
       "       'Alemania', 'Sudáfrica', 'Rusia'], dtype=object)"
      ]
     },
     "execution_count": 6,
     "metadata": {},
     "output_type": "execute_result"
    }
   ],
   "source": [
    "copa['anfitrion'].unique()"
   ]
  },
  {
   "cell_type": "code",
   "execution_count": 24,
   "id": "de765321-fad2-4583-80f9-29e6f13860dc",
   "metadata": {},
   "outputs": [
    {
     "data": {
      "text/plain": [
       "array(['Francia', 'Estados Unidos', 'Yugoslavia', 'Rumania', 'Argentina',\n",
       "       'Chile', 'Uruguay', 'Brasil', 'Paraguay', 'Suecia', 'Austria',\n",
       "       'Alemania', 'España', 'Hungría', 'Suiza', 'Italia',\n",
       "       'Checoslovaquia', 'Cuba', 'Inglaterra', 'Alemania occidental',\n",
       "       'Turquía', 'Irlanda del Norte', 'Unión Soviética', 'Mexico',\n",
       "       'Gales', 'Portugal', 'Corea del Norte', 'Perú', 'Bélgica',\n",
       "       'Marruecos', 'Bulgaria', 'Israel', 'Alemania del Este', 'Zaire',\n",
       "       'Polonia', 'Australia', 'Escocia', 'Países Bajos', 'Haití',\n",
       "       'Túnez', 'Argelia', 'Honduras', 'Canadá', 'Corea del Sur', 'Irak',\n",
       "       'Dinamarca', 'Emiratos Árabes Unidos', 'Costa Rica', 'Camerún',\n",
       "       'Irlanda', 'Colombia', 'Noruega', 'Nigeria', 'Arabia Saudita',\n",
       "       'Grecia', 'Bolivia', 'Rusia', 'Jamaica', 'Sudáfrica', 'Japón',\n",
       "       'Croacia', 'China', 'Senegal', 'Eslovenia', 'Ecuador',\n",
       "       'Trinidad y Tobago', 'Serbia y Montenegro', 'Angola',\n",
       "       'Republica Checa', 'Togo', 'Costa de Marfil', 'Irán', 'Ghana',\n",
       "       'Ucrania', 'Serbia', 'Nueva Zelanda', 'Eslovaquia',\n",
       "       'Bosnia Herzegovina', 'Egipto', 'Islandia', 'Panamá'], dtype=object)"
      ]
     },
     "execution_count": 24,
     "metadata": {},
     "output_type": "execute_result"
    }
   ],
   "source": [
    "copa['equipo_1'].unique()"
   ]
  },
  {
   "cell_type": "code",
   "execution_count": 25,
   "id": "50645e13-82f9-4e64-b98f-e2e7d32e7be4",
   "metadata": {},
   "outputs": [
    {
     "data": {
      "text/plain": [
       "array(['Mexico', 'Bélgica', 'Brasil', 'Perú', 'Francia', 'Bolivia',\n",
       "       'Paraguay', 'Rumania', 'Chile', 'Estados Unidos', 'Yugoslavia',\n",
       "       'Argentina', 'Egipto', 'Países Bajos', 'Suiza', 'Suecia', 'España',\n",
       "       'Hungría', 'Austria', 'Alemania', 'Checoslovaquia',\n",
       "       'Indias Orientales Holandesas', 'Noruega', 'Polonia', 'Cuba',\n",
       "       'Italia', 'Inglaterra', 'Escocia', 'Turquía', 'Corea del Sur',\n",
       "       'Alemania occidental', 'Uruguay', 'Gales', 'Irlanda del Norte',\n",
       "       'Unión Soviética', 'Colombia', 'Bulgaria', 'Corea del Norte',\n",
       "       'Portugal', 'Israel', 'El Salvador', 'Marruecos', 'Australia',\n",
       "       'Haití', 'Alemania del Este', 'Zaire', 'Irán', 'Túnez', 'Camerún',\n",
       "       'Nueva Zelanda', 'Argelia', 'Honduras', 'Kuwait', 'Irak',\n",
       "       'Dinamarca', 'Canadá', 'Irlanda', 'Emiratos Árabes Unidos',\n",
       "       'Costa Rica', 'Rusia', 'Arabia Saudita', 'Grecia', 'Nigeria',\n",
       "       'Sudáfrica', 'Croacia', 'Japón', 'Jamaica', 'Senegal', 'Eslovenia',\n",
       "       'Ecuador', 'Republica de Irlanda', 'China', 'Costa de Marfil',\n",
       "       'Ghana', 'Republica Checa', 'Togo', 'Ucrania', 'Trinidad y Tobago',\n",
       "       'Serbia y Montenegro', 'Angola', 'Eslovaquia', 'Serbia',\n",
       "       'Bosnia Herzegovina', 'Islandia', 'Panamá'], dtype=object)"
      ]
     },
     "execution_count": 25,
     "metadata": {},
     "output_type": "execute_result"
    }
   ],
   "source": [
    "copa['equipo_2'].unique()"
   ]
  },
  {
   "cell_type": "markdown",
   "id": "dd505bae-43a5-4a4a-9f34-8706211fcb2a",
   "metadata": {},
   "source": [
    "## 2. Crear dos gráficos en el que comparen a al menos dos países diferentes. Si quieren incluir a más países pueden hacerlo.)."
   ]
  },
  {
   "cell_type": "markdown",
   "id": "f795475a-2500-43b4-99c6-115efdd414e1",
   "metadata": {},
   "source": [
    "Realicemos un conteo de anfitrion vs anio, para entender mejor la información"
   ]
  },
  {
   "cell_type": "code",
   "execution_count": 14,
   "id": "f96c56f5-03c1-4fc7-9c8f-9436410bb16b",
   "metadata": {},
   "outputs": [
    {
     "data": {
      "text/plain": [
       "anio  anfitrion            \n",
       "1930  Uruguay                  18\n",
       "1934  Italia                   17\n",
       "1938  Francia                  18\n",
       "1950  Brasil                   22\n",
       "1954  Suiza                    26\n",
       "1958  Suecia                   35\n",
       "1962  Chile                    32\n",
       "1966  Inglaterra               32\n",
       "1970  Mexico                   32\n",
       "1974  Alemania occidental      38\n",
       "1978  Argentina                38\n",
       "1982  España                   52\n",
       "1986  Mexico                   52\n",
       "1990  Italia                   52\n",
       "1994  Estados Unidos           52\n",
       "1998  Francia                  64\n",
       "2002  Corea del sur y Japón    64\n",
       "2006  Alemania                 64\n",
       "2010  Sudáfrica                64\n",
       "2014  Brasil                   64\n",
       "2018  Rusia                    64\n",
       "Name: count, dtype: int64"
      ]
     },
     "execution_count": 14,
     "metadata": {},
     "output_type": "execute_result"
    }
   ],
   "source": [
    "copa.groupby('anio')['anfitrion'].value_counts()"
   ]
  },
  {
   "cell_type": "markdown",
   "id": "df28d9d0-2557-4186-b8f7-bcaa545cb1f6",
   "metadata": {},
   "source": [
    "vemos que hay paises que son anfitriones más de una vez"
   ]
  },
  {
   "cell_type": "code",
   "execution_count": 23,
   "id": "68791a3b-9ea0-455a-9617-721bbcc9dcf5",
   "metadata": {},
   "outputs": [
    {
     "data": {
      "text/html": [
       "<div>\n",
       "<style scoped>\n",
       "    .dataframe tbody tr th:only-of-type {\n",
       "        vertical-align: middle;\n",
       "    }\n",
       "\n",
       "    .dataframe tbody tr th {\n",
       "        vertical-align: top;\n",
       "    }\n",
       "\n",
       "    .dataframe thead th {\n",
       "        text-align: right;\n",
       "    }\n",
       "</style>\n",
       "<table border=\"1\" class=\"dataframe\">\n",
       "  <thead>\n",
       "    <tr style=\"text-align: right;\">\n",
       "      <th></th>\n",
       "      <th>anfitrion</th>\n",
       "      <th>count</th>\n",
       "    </tr>\n",
       "  </thead>\n",
       "  <tbody>\n",
       "    <tr>\n",
       "      <th>0</th>\n",
       "      <td>Brasil</td>\n",
       "      <td>86</td>\n",
       "    </tr>\n",
       "    <tr>\n",
       "      <th>1</th>\n",
       "      <td>Mexico</td>\n",
       "      <td>84</td>\n",
       "    </tr>\n",
       "    <tr>\n",
       "      <th>2</th>\n",
       "      <td>Francia</td>\n",
       "      <td>82</td>\n",
       "    </tr>\n",
       "    <tr>\n",
       "      <th>3</th>\n",
       "      <td>Italia</td>\n",
       "      <td>69</td>\n",
       "    </tr>\n",
       "    <tr>\n",
       "      <th>4</th>\n",
       "      <td>Sudáfrica</td>\n",
       "      <td>64</td>\n",
       "    </tr>\n",
       "    <tr>\n",
       "      <th>5</th>\n",
       "      <td>Alemania</td>\n",
       "      <td>64</td>\n",
       "    </tr>\n",
       "    <tr>\n",
       "      <th>6</th>\n",
       "      <td>Corea del sur y Japón</td>\n",
       "      <td>64</td>\n",
       "    </tr>\n",
       "    <tr>\n",
       "      <th>7</th>\n",
       "      <td>Rusia</td>\n",
       "      <td>64</td>\n",
       "    </tr>\n",
       "    <tr>\n",
       "      <th>8</th>\n",
       "      <td>España</td>\n",
       "      <td>52</td>\n",
       "    </tr>\n",
       "    <tr>\n",
       "      <th>9</th>\n",
       "      <td>Estados Unidos</td>\n",
       "      <td>52</td>\n",
       "    </tr>\n",
       "    <tr>\n",
       "      <th>10</th>\n",
       "      <td>Alemania occidental</td>\n",
       "      <td>38</td>\n",
       "    </tr>\n",
       "    <tr>\n",
       "      <th>11</th>\n",
       "      <td>Argentina</td>\n",
       "      <td>38</td>\n",
       "    </tr>\n",
       "    <tr>\n",
       "      <th>12</th>\n",
       "      <td>Suecia</td>\n",
       "      <td>35</td>\n",
       "    </tr>\n",
       "    <tr>\n",
       "      <th>13</th>\n",
       "      <td>Inglaterra</td>\n",
       "      <td>32</td>\n",
       "    </tr>\n",
       "    <tr>\n",
       "      <th>14</th>\n",
       "      <td>Chile</td>\n",
       "      <td>32</td>\n",
       "    </tr>\n",
       "    <tr>\n",
       "      <th>15</th>\n",
       "      <td>Suiza</td>\n",
       "      <td>26</td>\n",
       "    </tr>\n",
       "    <tr>\n",
       "      <th>16</th>\n",
       "      <td>Uruguay</td>\n",
       "      <td>18</td>\n",
       "    </tr>\n",
       "  </tbody>\n",
       "</table>\n",
       "</div>"
      ],
      "text/plain": [
       "                anfitrion  count\n",
       "0                  Brasil     86\n",
       "1                  Mexico     84\n",
       "2                 Francia     82\n",
       "3                  Italia     69\n",
       "4               Sudáfrica     64\n",
       "5                Alemania     64\n",
       "6   Corea del sur y Japón     64\n",
       "7                   Rusia     64\n",
       "8                  España     52\n",
       "9          Estados Unidos     52\n",
       "10    Alemania occidental     38\n",
       "11              Argentina     38\n",
       "12                 Suecia     35\n",
       "13             Inglaterra     32\n",
       "14                  Chile     32\n",
       "15                  Suiza     26\n",
       "16                Uruguay     18"
      ]
     },
     "execution_count": 23,
     "metadata": {},
     "output_type": "execute_result"
    }
   ],
   "source": [
    "conteo_anfitriones = copa['anfitrion'].value_counts().reset_index()\n",
    "    #.reset_index() := restablece el índice del DataFrame después de realizar la operación de agregación\n",
    "conteo_anfitriones.columns = ['anfitrion', 'count']\n",
    "conteo_anfitriones"
   ]
  },
  {
   "attachments": {},
   "cell_type": "markdown",
   "id": "3debd721-f738-4113-9a5b-2e3e336211f7",
   "metadata": {},
   "source": [
    "vemos que los paises anfitriones de `Brasil`, `México` y `Francia` tienen más partidos jugados, por ende tendría mayor información. Filtramos por esta información"
   ]
  },
  {
   "cell_type": "code",
   "execution_count": 109,
   "id": "1bba1a14-9791-46ba-980c-32a0194cdfd0",
   "metadata": {},
   "outputs": [
    {
     "data": {
      "text/html": [
       "<div>\n",
       "<style scoped>\n",
       "    .dataframe tbody tr th:only-of-type {\n",
       "        vertical-align: middle;\n",
       "    }\n",
       "\n",
       "    .dataframe tbody tr th {\n",
       "        vertical-align: top;\n",
       "    }\n",
       "\n",
       "    .dataframe thead th {\n",
       "        text-align: right;\n",
       "    }\n",
       "</style>\n",
       "<table border=\"1\" class=\"dataframe\">\n",
       "  <thead>\n",
       "    <tr style=\"text-align: right;\">\n",
       "      <th></th>\n",
       "      <th>anio</th>\n",
       "      <th>anfitrion</th>\n",
       "      <th>estadio</th>\n",
       "      <th>ciudad</th>\n",
       "      <th>partido_orden</th>\n",
       "      <th>fecha</th>\n",
       "      <th>equipo_1</th>\n",
       "      <th>equipo_2</th>\n",
       "      <th>equipo_1_final</th>\n",
       "      <th>equipo_2_final</th>\n",
       "    </tr>\n",
       "  </thead>\n",
       "  <tbody>\n",
       "    <tr>\n",
       "      <th>35</th>\n",
       "      <td>1938</td>\n",
       "      <td>Francia</td>\n",
       "      <td>Parc des Princes</td>\n",
       "      <td>Paris</td>\n",
       "      <td>(1)</td>\n",
       "      <td>1938-06-04</td>\n",
       "      <td>Suiza</td>\n",
       "      <td>Alemania</td>\n",
       "      <td>1</td>\n",
       "      <td>1</td>\n",
       "    </tr>\n",
       "    <tr>\n",
       "      <th>36</th>\n",
       "      <td>1938</td>\n",
       "      <td>Francia</td>\n",
       "      <td>Vélodrome Municipal</td>\n",
       "      <td>Reims</td>\n",
       "      <td>(2)</td>\n",
       "      <td>1938-06-05</td>\n",
       "      <td>Hungría</td>\n",
       "      <td>Indias Orientales Holandesas</td>\n",
       "      <td>6</td>\n",
       "      <td>0</td>\n",
       "    </tr>\n",
       "    <tr>\n",
       "      <th>37</th>\n",
       "      <td>1938</td>\n",
       "      <td>Francia</td>\n",
       "      <td>Stade Olympique de Colombes</td>\n",
       "      <td>Paris</td>\n",
       "      <td>(3)</td>\n",
       "      <td>1938-06-05</td>\n",
       "      <td>Francia</td>\n",
       "      <td>Bélgica</td>\n",
       "      <td>3</td>\n",
       "      <td>1</td>\n",
       "    </tr>\n",
       "    <tr>\n",
       "      <th>38</th>\n",
       "      <td>1938</td>\n",
       "      <td>Francia</td>\n",
       "      <td>Stade Chapou</td>\n",
       "      <td>Toulouse</td>\n",
       "      <td>(4)</td>\n",
       "      <td>1938-06-05</td>\n",
       "      <td>Cuba</td>\n",
       "      <td>Rumania</td>\n",
       "      <td>1</td>\n",
       "      <td>1</td>\n",
       "    </tr>\n",
       "    <tr>\n",
       "      <th>39</th>\n",
       "      <td>1938</td>\n",
       "      <td>Francia</td>\n",
       "      <td>Stade Vélodrome</td>\n",
       "      <td>Marseille</td>\n",
       "      <td>(5)</td>\n",
       "      <td>1938-06-05</td>\n",
       "      <td>Italia</td>\n",
       "      <td>Noruega</td>\n",
       "      <td>2</td>\n",
       "      <td>1</td>\n",
       "    </tr>\n",
       "  </tbody>\n",
       "</table>\n",
       "</div>"
      ],
      "text/plain": [
       "    anio anfitrion                      estadio     ciudad partido_orden  \\\n",
       "35  1938   Francia             Parc des Princes      Paris           (1)   \n",
       "36  1938   Francia          Vélodrome Municipal      Reims           (2)   \n",
       "37  1938   Francia  Stade Olympique de Colombes      Paris           (3)   \n",
       "38  1938   Francia                 Stade Chapou   Toulouse           (4)   \n",
       "39  1938   Francia              Stade Vélodrome  Marseille           (5)   \n",
       "\n",
       "         fecha equipo_1                      equipo_2  equipo_1_final  \\\n",
       "35  1938-06-04    Suiza                      Alemania               1   \n",
       "36  1938-06-05  Hungría  Indias Orientales Holandesas               6   \n",
       "37  1938-06-05  Francia                       Bélgica               3   \n",
       "38  1938-06-05     Cuba                       Rumania               1   \n",
       "39  1938-06-05   Italia                       Noruega               2   \n",
       "\n",
       "    equipo_2_final  \n",
       "35               1  \n",
       "36               0  \n",
       "37               1  \n",
       "38               1  \n",
       "39               1  "
      ]
     },
     "execution_count": 109,
     "metadata": {},
     "output_type": "execute_result"
    }
   ],
   "source": [
    "copa2 = copa.copy()\n",
    "copa2 = copa[copa['anfitrion'].isin(['Brasil','Mexico','Francia'])]\n",
    "copa2.head()"
   ]
  },
  {
   "cell_type": "code",
   "execution_count": 121,
   "id": "c175e929-2b08-4dc6-a90c-94d9404f1a15",
   "metadata": {},
   "outputs": [
    {
     "data": {
      "text/plain": [
       "array([1938, 1950, 1970, 1986, 1998, 2014], dtype=int64)"
      ]
     },
     "execution_count": 121,
     "metadata": {},
     "output_type": "execute_result"
    }
   ],
   "source": [
    "copa2['anio'].unique()"
   ]
  },
  {
   "cell_type": "markdown",
   "id": "ed2cd6a7-7909-4de6-a170-f4b72fe203d2",
   "metadata": {},
   "source": [
    "de estos paises anfitriones, veamos cuantos partidos por país participante existe, por ejemplo de Francia tenemos"
   ]
  },
  {
   "cell_type": "code",
   "execution_count": 137,
   "id": "14a41c58-5ddd-47b0-b84c-c81b1fa2b257",
   "metadata": {},
   "outputs": [
    {
     "data": {
      "text/plain": [
       "(13, 10)"
      ]
     },
     "execution_count": 137,
     "metadata": {},
     "output_type": "execute_result"
    }
   ],
   "source": [
    "copa2[copa2['equipo_1']=='Francia'].shape"
   ]
  },
  {
   "cell_type": "markdown",
   "id": "04e1cf74-2db8-4372-9eb2-db6a2bf36455",
   "metadata": {},
   "source": [
    "realicemos este conteo de manera general"
   ]
  },
  {
   "cell_type": "code",
   "execution_count": 119,
   "id": "83926015-9164-4834-acfc-6f7adf71e0b4",
   "metadata": {},
   "outputs": [
    {
     "data": {
      "text/html": [
       "<div>\n",
       "<style scoped>\n",
       "    .dataframe tbody tr th:only-of-type {\n",
       "        vertical-align: middle;\n",
       "    }\n",
       "\n",
       "    .dataframe tbody tr th {\n",
       "        vertical-align: top;\n",
       "    }\n",
       "\n",
       "    .dataframe thead th {\n",
       "        text-align: right;\n",
       "    }\n",
       "</style>\n",
       "<table border=\"1\" class=\"dataframe\">\n",
       "  <thead>\n",
       "    <tr style=\"text-align: right;\">\n",
       "      <th></th>\n",
       "      <th>equipo_1</th>\n",
       "      <th>count</th>\n",
       "    </tr>\n",
       "  </thead>\n",
       "  <tbody>\n",
       "    <tr>\n",
       "      <th>0</th>\n",
       "      <td>Brasil</td>\n",
       "      <td>26</td>\n",
       "    </tr>\n",
       "    <tr>\n",
       "      <th>1</th>\n",
       "      <td>Italia</td>\n",
       "      <td>15</td>\n",
       "    </tr>\n",
       "    <tr>\n",
       "      <th>2</th>\n",
       "      <td>Argentina</td>\n",
       "      <td>14</td>\n",
       "    </tr>\n",
       "    <tr>\n",
       "      <th>3</th>\n",
       "      <td>Francia</td>\n",
       "      <td>13</td>\n",
       "    </tr>\n",
       "    <tr>\n",
       "      <th>4</th>\n",
       "      <td>Uruguay</td>\n",
       "      <td>12</td>\n",
       "    </tr>\n",
       "  </tbody>\n",
       "</table>\n",
       "</div>"
      ],
      "text/plain": [
       "    equipo_1  count\n",
       "0     Brasil     26\n",
       "1     Italia     15\n",
       "2  Argentina     14\n",
       "3    Francia     13\n",
       "4    Uruguay     12"
      ]
     },
     "execution_count": 119,
     "metadata": {},
     "output_type": "execute_result"
    }
   ],
   "source": [
    "conteo_anfitriones2 = copa2['equipo_1'].value_counts().reset_index()\n",
    "conteo_anfitriones2.columns = ['equipo_1', 'count']\n",
    "conteo_anfitriones2 = conteo_anfitriones2.sort_values(by='count', ascending=False) # sale igual de ordenado sin esta línea de código\n",
    "conteo_anfitriones2.head()"
   ]
  },
  {
   "cell_type": "markdown",
   "id": "eed88e03-337f-46ec-b46f-a172d358c65e",
   "metadata": {},
   "source": [
    "### Gráfico 1 deberá ser un gráfico en el que los datos de los países comparados aparezcan en el mismo cuadro."
   ]
  },
  {
   "cell_type": "markdown",
   "id": "f3e1a58f-0a0e-457e-9d43-aa23202ffbbb",
   "metadata": {},
   "source": [
    "Del `equipo_1` tomaremos a `Brasil` vs `Italia`, que tienen más partidos jugados"
   ]
  },
  {
   "cell_type": "code",
   "execution_count": 86,
   "id": "5ed36709-5d83-4ea6-b7d6-61357b773564",
   "metadata": {},
   "outputs": [],
   "source": [
    "copa3=copa2.copy()\n",
    "copa4=copa3[(copa3['equipo_1']=='Brasil') | (copa3['equipo_1']=='Italia')]\n",
    "copa4.shape"
   ]
  },
  {
   "cell_type": "code",
   "execution_count": 88,
   "id": "59c8b01a-44b1-414e-8ffc-e00839a5af67",
   "metadata": {},
   "outputs": [
    {
     "data": {
      "text/html": [
       "<div>\n",
       "<style scoped>\n",
       "    .dataframe tbody tr th:only-of-type {\n",
       "        vertical-align: middle;\n",
       "    }\n",
       "\n",
       "    .dataframe tbody tr th {\n",
       "        vertical-align: top;\n",
       "    }\n",
       "\n",
       "    .dataframe thead th {\n",
       "        text-align: right;\n",
       "    }\n",
       "</style>\n",
       "<table border=\"1\" class=\"dataframe\">\n",
       "  <thead>\n",
       "    <tr style=\"text-align: right;\">\n",
       "      <th></th>\n",
       "      <th>anio</th>\n",
       "      <th>anfitrion</th>\n",
       "      <th>estadio</th>\n",
       "      <th>ciudad</th>\n",
       "      <th>partido_orden</th>\n",
       "      <th>fecha</th>\n",
       "      <th>equipo_1</th>\n",
       "      <th>equipo_2</th>\n",
       "      <th>equipo_1_final</th>\n",
       "      <th>equipo_2_final</th>\n",
       "    </tr>\n",
       "  </thead>\n",
       "  <tbody>\n",
       "    <tr>\n",
       "      <th>39</th>\n",
       "      <td>1938</td>\n",
       "      <td>Francia</td>\n",
       "      <td>Stade Vélodrome</td>\n",
       "      <td>Marseille</td>\n",
       "      <td>(5)</td>\n",
       "      <td>1938-06-05</td>\n",
       "      <td>Italia</td>\n",
       "      <td>Noruega</td>\n",
       "      <td>2</td>\n",
       "      <td>1</td>\n",
       "    </tr>\n",
       "    <tr>\n",
       "      <th>40</th>\n",
       "      <td>1938</td>\n",
       "      <td>Francia</td>\n",
       "      <td>Stade de la Meinau</td>\n",
       "      <td>Strasbourg</td>\n",
       "      <td>(6)</td>\n",
       "      <td>1938-06-05</td>\n",
       "      <td>Brasil</td>\n",
       "      <td>Polonia</td>\n",
       "      <td>6</td>\n",
       "      <td>5</td>\n",
       "    </tr>\n",
       "    <tr>\n",
       "      <th>44</th>\n",
       "      <td>1938</td>\n",
       "      <td>Francia</td>\n",
       "      <td>Parc Lescure</td>\n",
       "      <td>Bordeaux</td>\n",
       "      <td>(10)</td>\n",
       "      <td>1938-06-12</td>\n",
       "      <td>Brasil</td>\n",
       "      <td>Checoslovaquia</td>\n",
       "      <td>1</td>\n",
       "      <td>0</td>\n",
       "    </tr>\n",
       "    <tr>\n",
       "      <th>48</th>\n",
       "      <td>1938</td>\n",
       "      <td>Francia</td>\n",
       "      <td>Parc Lescure</td>\n",
       "      <td>Bordeaux</td>\n",
       "      <td>(14)</td>\n",
       "      <td>1938-06-14</td>\n",
       "      <td>Brasil</td>\n",
       "      <td>Checoslovaquia</td>\n",
       "      <td>2</td>\n",
       "      <td>1</td>\n",
       "    </tr>\n",
       "    <tr>\n",
       "      <th>50</th>\n",
       "      <td>1938</td>\n",
       "      <td>Francia</td>\n",
       "      <td>Stade Vélodrome</td>\n",
       "      <td>Marseille</td>\n",
       "      <td>(16)</td>\n",
       "      <td>1938-06-16</td>\n",
       "      <td>Italia</td>\n",
       "      <td>Brasil</td>\n",
       "      <td>2</td>\n",
       "      <td>1</td>\n",
       "    </tr>\n",
       "  </tbody>\n",
       "</table>\n",
       "</div>"
      ],
      "text/plain": [
       "    anio anfitrion             estadio      ciudad partido_orden       fecha  \\\n",
       "39  1938   Francia     Stade Vélodrome   Marseille           (5)  1938-06-05   \n",
       "40  1938   Francia  Stade de la Meinau  Strasbourg           (6)  1938-06-05   \n",
       "44  1938   Francia        Parc Lescure    Bordeaux          (10)  1938-06-12   \n",
       "48  1938   Francia        Parc Lescure    Bordeaux          (14)  1938-06-14   \n",
       "50  1938   Francia     Stade Vélodrome   Marseille          (16)  1938-06-16   \n",
       "\n",
       "   equipo_1        equipo_2  equipo_1_final  equipo_2_final  \n",
       "39   Italia         Noruega               2               1  \n",
       "40   Brasil         Polonia               6               5  \n",
       "44   Brasil  Checoslovaquia               1               0  \n",
       "48   Brasil  Checoslovaquia               2               1  \n",
       "50   Italia          Brasil               2               1  "
      ]
     },
     "execution_count": 88,
     "metadata": {},
     "output_type": "execute_result"
    }
   ],
   "source": [
    "copa4.head()"
   ]
  },
  {
   "cell_type": "markdown",
   "id": "03476993-64ad-454c-b7df-5c21ee1c2b11",
   "metadata": {},
   "source": [
    "filtramos las columnas de interés"
   ]
  },
  {
   "cell_type": "code",
   "execution_count": 92,
   "id": "7a732fe5-f252-481f-903a-851da710c989",
   "metadata": {},
   "outputs": [
    {
     "data": {
      "text/html": [
       "<div>\n",
       "<style scoped>\n",
       "    .dataframe tbody tr th:only-of-type {\n",
       "        vertical-align: middle;\n",
       "    }\n",
       "\n",
       "    .dataframe tbody tr th {\n",
       "        vertical-align: top;\n",
       "    }\n",
       "\n",
       "    .dataframe thead th {\n",
       "        text-align: right;\n",
       "    }\n",
       "</style>\n",
       "<table border=\"1\" class=\"dataframe\">\n",
       "  <thead>\n",
       "    <tr style=\"text-align: right;\">\n",
       "      <th></th>\n",
       "      <th>fecha</th>\n",
       "      <th>equipo_1</th>\n",
       "      <th>equipo_1_final</th>\n",
       "    </tr>\n",
       "  </thead>\n",
       "  <tbody>\n",
       "    <tr>\n",
       "      <th>39</th>\n",
       "      <td>1938-06-05</td>\n",
       "      <td>Italia</td>\n",
       "      <td>2</td>\n",
       "    </tr>\n",
       "    <tr>\n",
       "      <th>40</th>\n",
       "      <td>1938-06-05</td>\n",
       "      <td>Brasil</td>\n",
       "      <td>6</td>\n",
       "    </tr>\n",
       "    <tr>\n",
       "      <th>44</th>\n",
       "      <td>1938-06-12</td>\n",
       "      <td>Brasil</td>\n",
       "      <td>1</td>\n",
       "    </tr>\n",
       "    <tr>\n",
       "      <th>48</th>\n",
       "      <td>1938-06-14</td>\n",
       "      <td>Brasil</td>\n",
       "      <td>2</td>\n",
       "    </tr>\n",
       "    <tr>\n",
       "      <th>50</th>\n",
       "      <td>1938-06-16</td>\n",
       "      <td>Italia</td>\n",
       "      <td>2</td>\n",
       "    </tr>\n",
       "  </tbody>\n",
       "</table>\n",
       "</div>"
      ],
      "text/plain": [
       "         fecha equipo_1  equipo_1_final\n",
       "39  1938-06-05   Italia               2\n",
       "40  1938-06-05   Brasil               6\n",
       "44  1938-06-12   Brasil               1\n",
       "48  1938-06-14   Brasil               2\n",
       "50  1938-06-16   Italia               2"
      ]
     },
     "execution_count": 92,
     "metadata": {},
     "output_type": "execute_result"
    }
   ],
   "source": [
    "copa5=copa4.copy()\n",
    "copa5 = copa5[['fecha','equipo_1','equipo_1_final']]\n",
    "copa5.head()"
   ]
  },
  {
   "cell_type": "markdown",
   "id": "47a85e91-5b46-4a71-8724-a5529edca11e",
   "metadata": {},
   "source": [
    "en mi estudio me interesa mostrar solo el año y el mes de la fecha que se jugó el partido"
   ]
  },
  {
   "cell_type": "code",
   "execution_count": 94,
   "id": "a2d2a97b-58d3-49ac-ad24-f24904c1c0c5",
   "metadata": {},
   "outputs": [
    {
     "name": "stdout",
     "output_type": "stream",
     "text": [
      "<class 'pandas.core.frame.DataFrame'>\n",
      "Index: 41 entries, 39 to 834\n",
      "Data columns (total 3 columns):\n",
      " #   Column          Non-Null Count  Dtype \n",
      "---  ------          --------------  ----- \n",
      " 0   fecha           41 non-null     object\n",
      " 1   equipo_1        41 non-null     object\n",
      " 2   equipo_1_final  41 non-null     int64 \n",
      "dtypes: int64(1), object(2)\n",
      "memory usage: 1.3+ KB\n"
     ]
    }
   ],
   "source": [
    "copa5.info()"
   ]
  },
  {
   "cell_type": "markdown",
   "id": "f5321d89-c744-4a36-a0a2-671246e7346f",
   "metadata": {},
   "source": [
    "como `fecha` es de tipo object y me interesa sacar el año y el mes, cambio el tipo de dato a fecha."
   ]
  },
  {
   "cell_type": "code",
   "execution_count": 98,
   "id": "330662b3-0549-41d2-be66-a6eef085f498",
   "metadata": {},
   "outputs": [
    {
     "data": {
      "text/plain": [
       "(16, 3)"
      ]
     },
     "execution_count": 98,
     "metadata": {},
     "output_type": "execute_result"
    }
   ],
   "source": [
    "copa5['fecha'] = pd.to_datetime(copa5['fecha'])\n",
    "copa5 = copa5.groupby([copa5['fecha'].dt.strftime('%Y-%m'), 'equipo_1'])['equipo_1_final'].agg('sum').reset_index()\n",
    "    #strftime('%Y-%m') := formatea la fecha en año mes con .dt que accese a las propiedades de la fecha\n",
    "copa5.shape"
   ]
  },
  {
   "cell_type": "code",
   "execution_count": 99,
   "id": "3e4cd6c9-e145-4006-904d-0689f871b801",
   "metadata": {},
   "outputs": [
    {
     "data": {
      "text/html": [
       "<div>\n",
       "<style scoped>\n",
       "    .dataframe tbody tr th:only-of-type {\n",
       "        vertical-align: middle;\n",
       "    }\n",
       "\n",
       "    .dataframe tbody tr th {\n",
       "        vertical-align: top;\n",
       "    }\n",
       "\n",
       "    .dataframe thead th {\n",
       "        text-align: right;\n",
       "    }\n",
       "</style>\n",
       "<table border=\"1\" class=\"dataframe\">\n",
       "  <thead>\n",
       "    <tr style=\"text-align: right;\">\n",
       "      <th></th>\n",
       "      <th>fecha</th>\n",
       "      <th>equipo_1</th>\n",
       "      <th>equipo_1_final</th>\n",
       "    </tr>\n",
       "  </thead>\n",
       "  <tbody>\n",
       "    <tr>\n",
       "      <th>0</th>\n",
       "      <td>1938-06</td>\n",
       "      <td>Brasil</td>\n",
       "      <td>9</td>\n",
       "    </tr>\n",
       "    <tr>\n",
       "      <th>1</th>\n",
       "      <td>1938-06</td>\n",
       "      <td>Italia</td>\n",
       "      <td>4</td>\n",
       "    </tr>\n",
       "    <tr>\n",
       "      <th>2</th>\n",
       "      <td>1950-06</td>\n",
       "      <td>Brasil</td>\n",
       "      <td>6</td>\n",
       "    </tr>\n",
       "    <tr>\n",
       "      <th>3</th>\n",
       "      <td>1950-07</td>\n",
       "      <td>Brasil</td>\n",
       "      <td>15</td>\n",
       "    </tr>\n",
       "    <tr>\n",
       "      <th>4</th>\n",
       "      <td>1950-07</td>\n",
       "      <td>Italia</td>\n",
       "      <td>2</td>\n",
       "    </tr>\n",
       "  </tbody>\n",
       "</table>\n",
       "</div>"
      ],
      "text/plain": [
       "     fecha equipo_1  equipo_1_final\n",
       "0  1938-06   Brasil               9\n",
       "1  1938-06   Italia               4\n",
       "2  1950-06   Brasil               6\n",
       "3  1950-07   Brasil              15\n",
       "4  1950-07   Italia               2"
      ]
     },
     "execution_count": 99,
     "metadata": {},
     "output_type": "execute_result"
    }
   ],
   "source": [
    "copa5.head()"
   ]
  },
  {
   "cell_type": "markdown",
   "id": "e51bd9c1-1230-49f7-9887-af83b6dbf2de",
   "metadata": {},
   "source": [
    "gráficamos"
   ]
  },
  {
   "cell_type": "code",
   "execution_count": 134,
   "id": "e83a388b-a787-45f5-a468-674d30e6e195",
   "metadata": {},
   "outputs": [
    {
     "data": {
      "image/png": "[encoded data removed]",
      "text/plain": [
       "<Figure size 1200x600 with 1 Axes>"
      ]
     },
     "metadata": {},
     "output_type": "display_data"
    }
   ],
   "source": [
    "import matplotlib.pyplot as plt\n",
    "\n",
    "#Creamos la figura y un eje\n",
    "fig, ax = plt.subplots(figsize=(12,6)) #12 de ancho, #6 de largo\n",
    "\n",
    "#Colores\n",
    "col = {'Brasil':'orange', 'Italia': 'blue'}\n",
    "\n",
    "#Título general\n",
    "fig.suptitle('Comparación de Brasil vs Italia en los años 1938, 1950, 1970, 1986, 1998, 2014', fontsize=16)\n",
    "\n",
    "for i, j in copa5.groupby('equipo_1'):\n",
    "    ax.plot(j['fecha'], j['equipo_1_final'], label=i, color=col[i], marker='o')\n",
    "\n",
    "## 3. Los gráficos deberán tener un título general\n",
    "## 4. Los gráficos deberán tener etiquetas en cada eje\n",
    "ax.set_xlabel('Fecha')\n",
    "ax.set_ylabel('Cantidad de Goles')\n",
    "ax.legend(title='Paises del Equipo 1', loc = 'upper right')\n",
    "\n",
    "## 5. Deberán mostrar cómo guardar un gráfico\n",
    "plt.savefig('Comparacion1Grafico_AnaGabrielaTaipe.png')\n",
    "plt.show()"
   ]
  },
  {
   "cell_type": "markdown",
   "id": "38a0ca7d-71af-4cc6-bea5-5669e4d687b7",
   "metadata": {},
   "source": [
    "podemos observar que Brasil ha realizado más goles que Italia, salvo en el año 1970 en por junio que Italia tiene una ligera ganancia respecto al número de goles anotados. Se observa también que el mejor año para Brasil fue 1950, en cambio para Italia fue en 1970. Vemos también que a partir de 1998 hay una caida respecto al número de goles metido por cada equipo. Siendo 2014 el peor año para Italia y Brasil."
   ]
  },
  {
   "cell_type": "markdown",
   "id": "78c313cb-36f5-4a76-82dc-1a252380a421",
   "metadata": {},
   "source": [
    "### Gráfico 2 deberá ser un gráfico en el que los datos de cada país aparezca en un subgráfico diferente. Es decir, una figura tenga al menos dos recuadros (uno por cada país en la comparación)."
   ]
  },
  {
   "cell_type": "code",
   "execution_count": 133,
   "id": "1dbbd179-5810-4460-985a-db38ec4c21de",
   "metadata": {},
   "outputs": [
    {
     "data": {
      "image/png": "[encoded data removed]",
      "text/plain": [
       "<Figure size 1300x600 with 2 Axes>"
      ]
     },
     "metadata": {},
     "output_type": "display_data"
    }
   ],
   "source": [
    "import matplotlib.pyplot as plt\n",
    "\n",
    "#Obtenemos los equipos únicos de copa5\n",
    "equipos_unicos = copa5['equipo_1'].unique()\n",
    "\n",
    "#Creamos dos subplots, uno para cada país\n",
    "fig, axs = plt.subplots(1, 2, figsize=(13, 6), sharey=True) #aumentamos 1 punto en ancho para que se vea mejor el eje y\n",
    "    #sharey=True := especifica si los subplots deben compartir el eje Y. En este caso True para facilitar la comparación entre los paises\n",
    "\n",
    "#Colores\n",
    "col = {'Brasil': 'orange', 'Italia': 'blue'}\n",
    "\n",
    "#Título general\n",
    "fig.suptitle('Comparación de Brasil vs Italia en los años 1938, 1950, 1970, 1986, 1998, 2014', fontsize=16)\n",
    "\n",
    "for i, j in enumerate(equipos_unicos):\n",
    "    sub_df = copa5[copa5['equipo_1'] == j]\n",
    "    axs[i].plot(sub_df['fecha'], sub_df['equipo_1_final'], label=j, color=col[j], marker='o')\n",
    "    axs[i].set_title(f'{j}')\n",
    "    axs[i].set_xlabel('Fecha')\n",
    "    axs[i].set_ylabel('Cantidad de Goles')\n",
    "    #axs[i].legend(title='País', loc='upper right')  no es necesaria la leyenda\n",
    "\n",
    "plt.tight_layout()  #para ajustar la disposición de los gráficos y evitar superposiciones\n",
    "\n",
    "## 5. Deberán mostrar cómo guardar un gráfico\n",
    "plt.savefig('Comparacion2Graficos_AnaGabrielaTaipe.png')\n",
    "plt.show()"
   ]
  },
  {
   "cell_type": "markdown",
   "id": "439d2100-3511-4077-b0bb-ded0a313cc4e",
   "metadata": {},
   "source": []
  }
 ],
 "metadata": {
  "kernelspec": {
   "display_name": "Python 3 (ipykernel)",
   "language": "python",
   "name": "python3"
  },
  "language_info": {
   "codemirror_mode": {
    "name": "ipython",
    "version": 3
   },
   "file_extension": ".py",
   "mimetype": "text/x-python",
   "name": "python",
   "nbconvert_exporter": "python",
   "pygments_lexer": "ipython3",
   "version": "3.11.5"
  }
 },
 "nbformat": 4,
 "nbformat_minor": 5
}
